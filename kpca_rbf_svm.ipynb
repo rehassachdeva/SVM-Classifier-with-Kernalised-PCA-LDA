{
 "cells": [
  {
   "cell_type": "code",
   "execution_count": 23,
   "metadata": {
    "collapsed": true
   },
   "outputs": [],
   "source": [
    "import pandas as pd\n",
    "import numpy as np\n",
    "\n",
    "from warnings import filterwarnings\n",
    "from sklearn import svm\n",
    "from scipy.spatial.distance import pdist, squareform\n",
    "from scipy import exp\n",
    "from scipy.linalg import eigh\n",
    "from sklearn.metrics import accuracy_score\n",
    "\n",
    "# Disable warnings from being printed\n",
    "filterwarnings('ignore')"
   ]
  },
  {
   "cell_type": "code",
   "execution_count": 24,
   "metadata": {
    "collapsed": true
   },
   "outputs": [],
   "source": [
    "# Get the train and validation data for Arcene dataset\n",
    "# train = pd.read_csv(\"arcene_train.data.txt\", header=None, sep=\" \", usecols=range(10000))\n",
    "# train_labels = pd.read_csv(\"arcene_train.labels.txt\", header=None)\n",
    "# valid = pd.read_csv(\"arcene_valid.data.txt\", header=None, sep=\" \", usecols=range(10000))\n",
    "# valid_labels = pd.read_csv(\"arcene_valid.labels.txt\", header=None)\n",
    "\n",
    "# Get the train and validation data for Madelon dataset\n",
    "train = pd.read_csv(\"madelon_train.data.txt\", header=None, sep=\" \", usecols=range(500))\n",
    "train_labels = pd.read_csv(\"madelon_train.labels.txt\", header=None)\n",
    "valid = pd.read_csv(\"madelon_valid.data.txt\", header=None, sep=\" \", usecols=range(500))\n",
    "valid_labels = pd.read_csv(\"madelon_valid.labels.txt\", header=None)"
   ]
  },
  {
   "cell_type": "code",
   "execution_count": 25,
   "metadata": {
    "collapsed": true
   },
   "outputs": [],
   "source": [
    "def KPCA(X, k, gamma):\n",
    "    # Calculating the squared Euclidean distances for every pair of points\n",
    "    # in the MxN dimensional dataset.\n",
    "    sq_dists = pdist(X, 'sqeuclidean')\n",
    "\n",
    "    # Converting the pairwise distances into a symmetric MxM matrix.\n",
    "    mat_sq_dists = squareform(sq_dists)\n",
    "\n",
    "    # Computing the MxM RBF kernel matrix.\n",
    "\n",
    "    K = exp(-gamma * mat_sq_dists)\n",
    "\n",
    "    # Normalizing the symmetric NxN kernel matrix.\n",
    "    N = K.shape[0]\n",
    "    one_n = np.ones((N,N)) / N\n",
    "    K_norm = K - one_n.dot(K) - K.dot(one_n) + one_n.dot(K).dot(one_n)\n",
    "\n",
    "    # Obtaining eigenvalues in ascending order with corresponding\n",
    "    # eigenvectors from the symmetric matrix.\n",
    "    eigvals, eigvecs = eigh(K_norm)\n",
    "\n",
    "    # Obtaining the i eigenvectors (alphas) that corresponds to the i highest eigenvalues (lambdas).\n",
    "    alphas = np.column_stack((eigvecs[:,-i] for i in range(1,k+1)))\n",
    "    lambdas = [eigvals[-i] for i in range(1,k+1)]\n",
    "\n",
    "    return alphas, lambdas"
   ]
  },
  {
   "cell_type": "code",
   "execution_count": 26,
   "metadata": {
    "collapsed": true
   },
   "outputs": [],
   "source": [
    "def project(valid, X, k, gamma, alphas, lambdas):\n",
    "    projected_data = np.zeros((valid.shape[0], k))\n",
    "    X_arr = np.array(train)\n",
    "    valid_arr = np.array(valid)\n",
    "    for i in range(valid_arr.shape[0]):\n",
    "        cur_dist = np.array([np.sum( (valid_arr[i]-x) ** 2) for x in X_arr])\n",
    "        cur_k = np.exp(-gamma * cur_dist)\n",
    "        projected_data[i, :] = cur_k.dot(alphas / lambdas)\n",
    "    return projected_data   "
   ]
  },
  {
   "cell_type": "code",
   "execution_count": 27,
   "metadata": {
    "collapsed": false
   },
   "outputs": [
    {
     "name": "stdout",
     "output_type": "stream",
     "text": [
      "For k= 10 , Accuracy= 0.551666666667\n",
      "For k= 100 , Accuracy= 0.593333333333\n"
     ]
    }
   ],
   "source": [
    "gamma = 1e-10\n",
    "ks = [10, 100]\n",
    "\n",
    "for k in ks:\n",
    "    alphas, lambdas = KPCA(train, k, gamma)\n",
    "    projected_valid = project(valid, train, k, gamma, alphas, lambdas)\n",
    "    projected_train = project(train, train, k, gamma, alphas, lambdas)\n",
    "    clf = svm.SVC(kernel=\"rbf\", max_iter=1000000)\n",
    "    clf.fit(projected_train, train_labels)\n",
    "    results = clf.predict(projected_valid)\n",
    "    print(\"For k=\", k, \",\", \"Accuracy=\", accuracy_score(valid_labels, results))"
   ]
  },
  {
   "cell_type": "code",
   "execution_count": null,
   "metadata": {
    "collapsed": true
   },
   "outputs": [],
   "source": []
  }
 ],
 "metadata": {
  "kernelspec": {
   "display_name": "Python [Root]",
   "language": "python",
   "name": "Python [Root]"
  },
  "language_info": {
   "codemirror_mode": {
    "name": "ipython",
    "version": 3
   },
   "file_extension": ".py",
   "mimetype": "text/x-python",
   "name": "python",
   "nbconvert_exporter": "python",
   "pygments_lexer": "ipython3",
   "version": "3.5.2"
  }
 },
 "nbformat": 4,
 "nbformat_minor": 0
}
