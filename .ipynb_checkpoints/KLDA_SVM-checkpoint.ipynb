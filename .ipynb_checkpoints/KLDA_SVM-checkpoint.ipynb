{
 "cells": [
  {
   "cell_type": "code",
   "execution_count": 1,
   "metadata": {
    "collapsed": false
   },
   "outputs": [],
   "source": [
    "import pandas as pd\n",
    "import numpy as np\n",
    "\n",
    "from warnings import filterwarnings\n",
    "from sklearn import svm\n",
    "from scipy.spatial.distance import pdist, squareform\n",
    "from scipy import exp\n",
    "from scipy.linalg import eigh\n",
    "from sklearn.metrics import accuracy_score\n",
    "\n",
    "# Disable warnings from being printed\n",
    "filterwarnings('ignore')"
   ]
  },
  {
   "cell_type": "code",
   "execution_count": 2,
   "metadata": {
    "collapsed": false
   },
   "outputs": [],
   "source": [
    "# Get the train and validation data\n",
    "train = pd.read_csv(\"arcene_train.data.txt\", header=None, sep=\" \", usecols=range(10000))\n",
    "train_labels = pd.read_csv(\"arcene_train.labels.txt\", header=None)\n",
    "valid = pd.read_csv(\"arcene_valid.data.txt\", header=None, sep=\" \", usecols=range(10000))\n",
    "valid_labels = pd.read_csv(\"arcene_valid.labels.txt\", header=None)\n",
    "\n",
    "#train = pd.read_csv(\"madelon_train.data.txt\", header=None, sep=\" \", usecols=range(500))\n",
    "#train_labels = pd.read_csv(\"madelon_train.labels.txt\", header=None)\n",
    "#valid = pd.read_csv(\"madelon_valid.data.txt\", header=None, sep=\" \", usecols=range(500))\n",
    "#valid_labels = pd.read_csv(\"madelon_valid.labels.txt\", header=None)"
   ]
  },
  {
   "cell_type": "code",
   "execution_count": 3,
   "metadata": {
    "collapsed": true
   },
   "outputs": [],
   "source": [
    "def KLDA(X, X_labels, lmb):\n",
    "    # Calculating the squared Euclidean distances for every pair of points\n",
    "    # in the MxN dimensional dataset.\n",
    "    sq_dists = pdist(X, 'sqeuclidean')\n",
    "\n",
    "    # Converting the pairwise distances into a symmetric MxM matrix.\n",
    "    mat_sq_dists = squareform(sq_dists)\n",
    "\n",
    "    # Computing the MxM RBF kernel matrix.\n",
    "    \n",
    "    # For RBF kernel\n",
    "    # K = exp(-gamma * mat_sq_dists)\n",
    "      \n",
    "    # For linear kernel\n",
    "    K = X.dot(X.T)\n",
    "    \n",
    "    Karr = np.array(K, dtype=np.float)\n",
    "    yarr = np.array(X_labels, dtype=np.int)\n",
    "\n",
    "    \n",
    "    labels = np.unique(yarr)\n",
    "    n = yarr.shape[0]\n",
    "\n",
    "    idx1 = np.where(yarr==labels[0])[0]\n",
    "    idx2 = np.where(yarr==labels[1])[0]\n",
    "    n1 = idx1.shape[0]\n",
    "    n2 = idx2.shape[0]\n",
    "    \n",
    "    K1, K2 = Karr[:, idx1], Karr[:, idx2]\n",
    "    \n",
    "    N1 = np.dot(np.dot(K1, np.eye(n1) - (1 / float(n1))), K1.T)\n",
    "    N2 = np.dot(np.dot(K2, np.eye(n2) - (1 / float(n2))), K2.T)\n",
    "    N = N1 + N2 + np.diag(np.repeat(lmb, n))\n",
    "\n",
    "    M1 = np.sum(K1, axis=1) / float(n1)\n",
    "    M2 = np.sum(K2, axis=1) / float(n2)\n",
    "    M = M1 - M2\n",
    "    \n",
    "    coeff = np.linalg.solve(N, M).reshape(-1, 1)\n",
    "            \n",
    "    return coeff"
   ]
  },
  {
   "cell_type": "code",
   "execution_count": 4,
   "metadata": {
    "collapsed": false
   },
   "outputs": [],
   "source": [
    "lmb = 1e-3"
   ]
  },
  {
   "cell_type": "code",
   "execution_count": 5,
   "metadata": {
    "collapsed": true
   },
   "outputs": [],
   "source": [
    "def project(data, X, coeff):\n",
    "    projected_data = np.zeros((data.shape[0], 1))\n",
    "    X_arr = np.array(X)\n",
    "    data_arr = np.array(data)\n",
    "    for i in range(data_arr.shape[0]):\n",
    "        cur_dist = np.array([np.sum((data_arr[i]-x)**2) for x in X_arr])\n",
    "        cur_k = cur_dist\n",
    "        projected_data[i, :] = cur_k.dot(coeff)\n",
    "    return projected_data    "
   ]
  },
  {
   "cell_type": "code",
   "execution_count": 6,
   "metadata": {
    "collapsed": false
   },
   "outputs": [
    {
     "name": "stdout",
     "output_type": "stream",
     "text": [
      "0.72\n"
     ]
    }
   ],
   "source": [
    "coeff = KLDA(train, train_labels, lmb)\n",
    "projected_valid = project(valid, train, coeff)\n",
    "projected_train = project(train, train, coeff)\n",
    "clf = svm.SVC(kernel=\"linear\", max_iter=1000000)\n",
    "clf.fit(projected_train, train_labels)\n",
    "results = clf.predict(projected_valid)\n",
    "print(accuracy_score(valid_labels, results))"
   ]
  },
  {
   "cell_type": "code",
   "execution_count": null,
   "metadata": {
    "collapsed": true
   },
   "outputs": [],
   "source": []
  }
 ],
 "metadata": {
  "anaconda-cloud": {},
  "kernelspec": {
   "display_name": "Python [Root]",
   "language": "python",
   "name": "Python [Root]"
  },
  "language_info": {
   "codemirror_mode": {
    "name": "ipython",
    "version": 3
   },
   "file_extension": ".py",
   "mimetype": "text/x-python",
   "name": "python",
   "nbconvert_exporter": "python",
   "pygments_lexer": "ipython3",
   "version": "3.5.2"
  }
 },
 "nbformat": 4,
 "nbformat_minor": 0
}
